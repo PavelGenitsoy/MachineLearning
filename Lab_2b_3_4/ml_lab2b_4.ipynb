{
  "nbformat": 4,
  "nbformat_minor": 0,
  "metadata": {
    "colab": {
      "name": "ml_lab2b - 4",
      "provenance": [],
      "toc_visible": true
    },
    "kernelspec": {
      "name": "python3",
      "display_name": "Python 3"
    }
  },
  "cells": [
    {
      "cell_type": "markdown",
      "metadata": {
        "id": "Xy61_GhSEV-V"
      },
      "source": [
        "# https://www.kaggle.com/c/tt-GameLevel/data"
      ]
    },
    {
      "cell_type": "code",
      "metadata": {
        "id": "g6xzbcM-0WpL"
      },
      "source": [
        "import numpy as np \n",
        "import pandas as pd\n",
        "import matplotlib.pyplot as plt\n",
        "import seaborn as sns"
      ],
      "execution_count": 1,
      "outputs": []
    },
    {
      "cell_type": "code",
      "metadata": {
        "colab": {
          "base_uri": "https://localhost:8080/",
          "height": 232
        },
        "id": "A3y2HFZn8xiw",
        "outputId": "ff674b55-4dc6-4257-c2c1-e18c0d00706e"
      },
      "source": [
        "df = pd.read_csv('train.csv')\n",
        "df.head()"
      ],
      "execution_count": 2,
      "outputs": [
        {
          "output_type": "execute_result",
          "data": {
            "text/html": [
              "<div>\n",
              "<style scoped>\n",
              "    .dataframe tbody tr th:only-of-type {\n",
              "        vertical-align: middle;\n",
              "    }\n",
              "\n",
              "    .dataframe tbody tr th {\n",
              "        vertical-align: top;\n",
              "    }\n",
              "\n",
              "    .dataframe thead th {\n",
              "        text-align: right;\n",
              "    }\n",
              "</style>\n",
              "<table border=\"1\" class=\"dataframe\">\n",
              "  <thead>\n",
              "    <tr style=\"text-align: right;\">\n",
              "      <th></th>\n",
              "      <th>Unnamed: 0</th>\n",
              "      <th>player_0</th>\n",
              "      <th>player_1</th>\n",
              "      <th>player_2</th>\n",
              "      <th>player_3</th>\n",
              "      <th>player_4</th>\n",
              "      <th>level_0</th>\n",
              "      <th>level_1</th>\n",
              "      <th>level_2</th>\n",
              "      <th>level_3</th>\n",
              "      <th>level_4</th>\n",
              "      <th>level_5</th>\n",
              "      <th>age</th>\n",
              "      <th>duration_ms</th>\n",
              "      <th># tries</th>\n",
              "      <th>target</th>\n",
              "    </tr>\n",
              "  </thead>\n",
              "  <tbody>\n",
              "    <tr>\n",
              "      <th>0</th>\n",
              "      <td>5204</td>\n",
              "      <td>0.025087</td>\n",
              "      <td>0.029495</td>\n",
              "      <td>3.361538e-06</td>\n",
              "      <td>0.007414</td>\n",
              "      <td>1.915486</td>\n",
              "      <td>0.002375</td>\n",
              "      <td>0.472284</td>\n",
              "      <td>0.021519</td>\n",
              "      <td>0.503860</td>\n",
              "      <td>11.0</td>\n",
              "      <td>1.0</td>\n",
              "      <td>15.0</td>\n",
              "      <td>215793.8</td>\n",
              "      <td>15</td>\n",
              "      <td>5</td>\n",
              "    </tr>\n",
              "    <tr>\n",
              "      <th>1</th>\n",
              "      <td>5175</td>\n",
              "      <td>0.024538</td>\n",
              "      <td>0.016962</td>\n",
              "      <td>2.842308e-06</td>\n",
              "      <td>0.004231</td>\n",
              "      <td>1.967912</td>\n",
              "      <td>0.001115</td>\n",
              "      <td>0.541616</td>\n",
              "      <td>0.005808</td>\n",
              "      <td>0.557895</td>\n",
              "      <td>NaN</td>\n",
              "      <td>0.0</td>\n",
              "      <td>20.0</td>\n",
              "      <td>271493.0</td>\n",
              "      <td>1</td>\n",
              "      <td>8</td>\n",
              "    </tr>\n",
              "    <tr>\n",
              "      <th>2</th>\n",
              "      <td>638</td>\n",
              "      <td>0.018192</td>\n",
              "      <td>0.017910</td>\n",
              "      <td>0.000000e+00</td>\n",
              "      <td>0.003359</td>\n",
              "      <td>1.953176</td>\n",
              "      <td>0.001296</td>\n",
              "      <td>0.456985</td>\n",
              "      <td>0.016872</td>\n",
              "      <td>0.596491</td>\n",
              "      <td>6.0</td>\n",
              "      <td>1.0</td>\n",
              "      <td>21.0</td>\n",
              "      <td>240264.0</td>\n",
              "      <td>6</td>\n",
              "      <td>3</td>\n",
              "    </tr>\n",
              "    <tr>\n",
              "      <th>3</th>\n",
              "      <td>6733</td>\n",
              "      <td>0.020673</td>\n",
              "      <td>0.020808</td>\n",
              "      <td>1.780798e-02</td>\n",
              "      <td>0.006423</td>\n",
              "      <td>1.998824</td>\n",
              "      <td>0.001202</td>\n",
              "      <td>0.507592</td>\n",
              "      <td>0.009712</td>\n",
              "      <td>0.615789</td>\n",
              "      <td>9.0</td>\n",
              "      <td>1.0</td>\n",
              "      <td>17.0</td>\n",
              "      <td>277560.5</td>\n",
              "      <td>4</td>\n",
              "      <td>8</td>\n",
              "    </tr>\n",
              "    <tr>\n",
              "      <th>4</th>\n",
              "      <td>2706</td>\n",
              "      <td>0.026192</td>\n",
              "      <td>0.032269</td>\n",
              "      <td>3.923077e-08</td>\n",
              "      <td>0.001815</td>\n",
              "      <td>2.108529</td>\n",
              "      <td>0.001269</td>\n",
              "      <td>0.489113</td>\n",
              "      <td>0.024154</td>\n",
              "      <td>0.410526</td>\n",
              "      <td>NaN</td>\n",
              "      <td>0.0</td>\n",
              "      <td>15.0</td>\n",
              "      <td>260773.0</td>\n",
              "      <td>1</td>\n",
              "      <td>9</td>\n",
              "    </tr>\n",
              "  </tbody>\n",
              "</table>\n",
              "</div>"
            ],
            "text/plain": [
              "   Unnamed: 0  player_0  player_1  ...  duration_ms  # tries  target\n",
              "0        5204  0.025087  0.029495  ...     215793.8       15       5\n",
              "1        5175  0.024538  0.016962  ...     271493.0        1       8\n",
              "2         638  0.018192  0.017910  ...     240264.0        6       3\n",
              "3        6733  0.020673  0.020808  ...     277560.5        4       8\n",
              "4        2706  0.026192  0.032269  ...     260773.0        1       9\n",
              "\n",
              "[5 rows x 16 columns]"
            ]
          },
          "metadata": {
            "tags": []
          },
          "execution_count": 2
        }
      ]
    },
    {
      "cell_type": "code",
      "metadata": {
        "colab": {
          "base_uri": "https://localhost:8080/"
        },
        "id": "XVRBv5I3CXqU",
        "outputId": "476bb862-ed4f-485f-cb08-f27820a04e7f"
      },
      "source": [
        "df.info()"
      ],
      "execution_count": 3,
      "outputs": [
        {
          "output_type": "stream",
          "text": [
            "<class 'pandas.core.frame.DataFrame'>\n",
            "RangeIndex: 7551 entries, 0 to 7550\n",
            "Data columns (total 16 columns):\n",
            " #   Column       Non-Null Count  Dtype  \n",
            "---  ------       --------------  -----  \n",
            " 0   Unnamed: 0   7551 non-null   int64  \n",
            " 1   player_0     7551 non-null   float64\n",
            " 2   player_1     7551 non-null   float64\n",
            " 3   player_2     7551 non-null   float64\n",
            " 4   player_3     7551 non-null   float64\n",
            " 5   player_4     7551 non-null   float64\n",
            " 6   level_0      7077 non-null   float64\n",
            " 7   level_1      7043 non-null   float64\n",
            " 8   level_2      6791 non-null   float64\n",
            " 9   level_3      7277 non-null   float64\n",
            " 10  level_4      6732 non-null   float64\n",
            " 11  level_5      6967 non-null   float64\n",
            " 12  age          5300 non-null   float64\n",
            " 13  duration_ms  7551 non-null   float64\n",
            " 14  # tries      7551 non-null   int64  \n",
            " 15  target       7551 non-null   int64  \n",
            "dtypes: float64(13), int64(3)\n",
            "memory usage: 944.0 KB\n"
          ],
          "name": "stdout"
        }
      ]
    },
    {
      "cell_type": "markdown",
      "metadata": {
        "id": "lGN_TmAg5o3k"
      },
      "source": [
        "- player_XXX - anonymized player metadata (how much overall time player spent in the game? how much points player collected? etc.)\n",
        "- level_XXX - anonymized gameplay metadata (how much points player collected during this level? how much HP player lost during this level? etc.)\n",
        "- age - age of the player (years)\n",
        "- duration_ms - duration of the last (successful) try\n",
        "- tries - number of tries it took to finish this level"
      ]
    },
    {
      "cell_type": "code",
      "metadata": {
        "id": "uN4yvjZVD9id"
      },
      "source": [
        "from sklearn.experimental import enable_iterative_imputer\n",
        "from sklearn.impute import IterativeImputer\n",
        "\n",
        "def fill_missed_values(original_data):\n",
        "    \n",
        "    new_data = original_data.copy()\n",
        "\n",
        "    cols_with_missing = (col for col in new_data.columns \n",
        "                                     if new_data[col].isnull().any())\n",
        "    for col in cols_with_missing:\n",
        "        new_data[col + '_was_missing'] = new_data[col].isnull()\n",
        "    real_columns = new_data.columns\n",
        "    \n",
        "    imputer = IterativeImputer(max_iter=10, initial_strategy='mean', random_state=42)\n",
        "    new_data = pd.DataFrame(imputer.fit_transform(new_data))\n",
        "    new_data.columns = real_columns\n",
        "    \n",
        "    return new_data"
      ],
      "execution_count": 4,
      "outputs": []
    },
    {
      "cell_type": "code",
      "metadata": {
        "id": "kEjOzUxvEJXT"
      },
      "source": [
        "from sklearn.preprocessing import StandardScaler\n",
        "\n",
        "df.duration_ms = StandardScaler().fit_transform(df.duration_ms.values.reshape(-1,1))\n",
        "df = fill_missed_values(df)\n",
        "\n",
        "features = ['level_4', 'level_5', 'age', '# tries', 'target', 'level_0_was_missing',\n",
        "            'level_1_was_missing', 'level_2_was_missing', 'level_3_was_missing', \n",
        "            'level_4_was_missing', 'level_5_was_missing', 'age_was_missing']\n",
        "\n",
        "for feature in features:\n",
        "    df[feature] = df[feature].astype(np.int64)"
      ],
      "execution_count": 5,
      "outputs": []
    },
    {
      "cell_type": "code",
      "metadata": {
        "colab": {
          "base_uri": "https://localhost:8080/",
          "height": 338
        },
        "id": "GSAKVjiPA6Oq",
        "outputId": "8999595c-1b0c-4078-fbef-e913c1134d66"
      },
      "source": [
        "sns.heatmap(df.iloc[:, :16].corr())"
      ],
      "execution_count": 6,
      "outputs": [
        {
          "output_type": "execute_result",
          "data": {
            "text/plain": [
              "<matplotlib.axes._subplots.AxesSubplot at 0x7f1a997cfe50>"
            ]
          },
          "metadata": {
            "tags": []
          },
          "execution_count": 6
        },
        {
          "output_type": "display_data",
          "data": {
            "image/png": "[encoded data removed]",
            "text/plain": [
              "<Figure size 432x288 with 2 Axes>"
            ]
          },
          "metadata": {
            "tags": [],
            "needs_background": "light"
          }
        }
      ]
    },
    {
      "cell_type": "markdown",
      "metadata": {
        "id": "ZH86RlGaIZUJ"
      },
      "source": [
        "# Modeling"
      ]
    },
    {
      "cell_type": "code",
      "metadata": {
        "id": "Sb5kL9LbLunc"
      },
      "source": [
        "from sklearn.model_selection import GridSearchCV\n",
        "from sklearn.metrics import f1_score, confusion_matrix"
      ],
      "execution_count": 7,
      "outputs": []
    },
    {
      "cell_type": "code",
      "metadata": {
        "id": "RotVW9GUEoLb"
      },
      "source": [
        "X = df.drop(['Unnamed: 0', 'target'], axis=1)\n",
        "y = df.target"
      ],
      "execution_count": 8,
      "outputs": []
    },
    {
      "cell_type": "code",
      "metadata": {
        "id": "-YZyLj3dGf_K"
      },
      "source": [
        "from sklearn.model_selection import train_test_split\n",
        "X_train, X_test, y_train, y_test = train_test_split(X, y, test_size=0.2, random_state=42, shuffle=True)"
      ],
      "execution_count": 9,
      "outputs": []
    },
    {
      "cell_type": "markdown",
      "metadata": {
        "id": "ZrH7qOK0IeK5"
      },
      "source": [
        "## MLP 2b"
      ]
    },
    {
      "cell_type": "code",
      "metadata": {
        "colab": {
          "base_uri": "https://localhost:8080/"
        },
        "id": "olc5gySHJJeZ",
        "outputId": "c8b1e72f-5c5a-467d-cff8-3a8e6006a92e"
      },
      "source": [
        "from sklearn.neural_network import MLPClassifier\n",
        "mlp = MLPClassifier(activation='relu', solver='adam', alpha=1e-4, max_iter=500, random_state=42)\n",
        "mlp_params = {\n",
        "    'hidden_layer_sizes': [(100,), (50, 10,)]\n",
        "}\n",
        "mlp_clf = GridSearchCV(mlp, param_grid=mlp_params, n_jobs=-1, scoring='f1_macro', cv=5)\n",
        "mlp_clf"
      ],
      "execution_count": 26,
      "outputs": [
        {
          "output_type": "execute_result",
          "data": {
            "text/plain": [
              "GridSearchCV(cv=5, error_score=nan,\n",
              "             estimator=MLPClassifier(activation='relu', alpha=0.0001,\n",
              "                                     batch_size='auto', beta_1=0.9,\n",
              "                                     beta_2=0.999, early_stopping=False,\n",
              "                                     epsilon=1e-08, hidden_layer_sizes=(100,),\n",
              "                                     learning_rate='constant',\n",
              "                                     learning_rate_init=0.001, max_fun=15000,\n",
              "                                     max_iter=500, momentum=0.9,\n",
              "                                     n_iter_no_change=10,\n",
              "                                     nesterovs_momentum=True, power_t=0.5,\n",
              "                                     random_state=42, shuffle=True,\n",
              "                                     solver='adam', tol=0.0001,\n",
              "                                     validation_fraction=0.1, verbose=False,\n",
              "                                     warm_start=False),\n",
              "             iid='deprecated', n_jobs=-1,\n",
              "             param_grid={'hidden_layer_sizes': [(100,), (50, 10)]},\n",
              "             pre_dispatch='2*n_jobs', refit=True, return_train_score=False,\n",
              "             scoring='f1_macro', verbose=0)"
            ]
          },
          "metadata": {
            "tags": []
          },
          "execution_count": 26
        }
      ]
    },
    {
      "cell_type": "code",
      "metadata": {
        "colab": {
          "base_uri": "https://localhost:8080/"
        },
        "id": "6Gf8jNFpG290",
        "outputId": "59266480-e209-4d5a-bb41-3f5d586abf1f"
      },
      "source": [
        "%%time\n",
        "mlp_clf.fit(X_train, y_train)\n",
        "y_pred_mlp = mlp_clf.predict(X_test)"
      ],
      "execution_count": 27,
      "outputs": [
        {
          "output_type": "stream",
          "text": [
            "CPU times: user 21.2 s, sys: 15.5 s, total: 36.7 s\n",
            "Wall time: 1min 29s\n"
          ],
          "name": "stdout"
        }
      ]
    },
    {
      "cell_type": "code",
      "metadata": {
        "colab": {
          "base_uri": "https://localhost:8080/",
          "height": 298
        },
        "id": "hNcZcwQN_wZY",
        "outputId": "333d5eaf-cfb0-498a-83b4-9f81b5083aae"
      },
      "source": [
        "print(f1_score(y_test, y_pred_mlp, average='macro'))\n",
        "sns.heatmap(confusion_matrix(y_pred_mlp, y_test), annot=True, fmt=\"d\", cmap=plt.cm.Blues, cbar=False)"
      ],
      "execution_count": 28,
      "outputs": [
        {
          "output_type": "stream",
          "text": [
            "0.31605812481979434\n"
          ],
          "name": "stdout"
        },
        {
          "output_type": "execute_result",
          "data": {
            "text/plain": [
              "<matplotlib.axes._subplots.AxesSubplot at 0x7f1a89b9de10>"
            ]
          },
          "metadata": {
            "tags": []
          },
          "execution_count": 28
        },
        {
          "output_type": "display_data",
          "data": {
            "image/png": "[encoded data removed]",
            "text/plain": [
              "<Figure size 432x288 with 1 Axes>"
            ]
          },
          "metadata": {
            "tags": [],
            "needs_background": "light"
          }
        }
      ]
    },
    {
      "cell_type": "markdown",
      "metadata": {
        "id": "oPUdaDBaL255"
      },
      "source": [
        "## DTC, RFC 3 "
      ]
    },
    {
      "cell_type": "code",
      "metadata": {
        "colab": {
          "base_uri": "https://localhost:8080/"
        },
        "id": "7s2frXk3M5FM",
        "outputId": "8812918b-4a99-425d-eb37-981767600a59"
      },
      "source": [
        "from sklearn.tree import DecisionTreeClassifier\n",
        "\n",
        "dtc = DecisionTreeClassifier(random_state=42)\n",
        "dtc_params = {\n",
        "    'max_depth': [3, 5, 7, 10, 15, 20]\n",
        "}\n",
        "dtc_clf = GridSearchCV(dtc, param_grid=dtc_params, n_jobs=-1, scoring='f1_macro', cv=5)\n",
        "dtc_clf"
      ],
      "execution_count": 13,
      "outputs": [
        {
          "output_type": "execute_result",
          "data": {
            "text/plain": [
              "GridSearchCV(cv=5, error_score=nan,\n",
              "             estimator=DecisionTreeClassifier(ccp_alpha=0.0, class_weight=None,\n",
              "                                              criterion='gini', max_depth=None,\n",
              "                                              max_features=None,\n",
              "                                              max_leaf_nodes=None,\n",
              "                                              min_impurity_decrease=0.0,\n",
              "                                              min_impurity_split=None,\n",
              "                                              min_samples_leaf=1,\n",
              "                                              min_samples_split=2,\n",
              "                                              min_weight_fraction_leaf=0.0,\n",
              "                                              presort='deprecated',\n",
              "                                              random_state=42,\n",
              "                                              splitter='best'),\n",
              "             iid='deprecated', n_jobs=-1,\n",
              "             param_grid={'max_depth': [3, 5, 7, 10, 15, 20]},\n",
              "             pre_dispatch='2*n_jobs', refit=True, return_train_score=False,\n",
              "             scoring='f1_macro', verbose=0)"
            ]
          },
          "metadata": {
            "tags": []
          },
          "execution_count": 13
        }
      ]
    },
    {
      "cell_type": "code",
      "metadata": {
        "colab": {
          "base_uri": "https://localhost:8080/"
        },
        "id": "z6S1YrlROjcg",
        "outputId": "7ceb582f-5af8-4f91-ccd4-093a96876440"
      },
      "source": [
        "%%time\n",
        "dtc_clf.fit(X_train, y_train)\n",
        "y_pred_dtc = dtc_clf.predict(X_test)"
      ],
      "execution_count": 14,
      "outputs": [
        {
          "output_type": "stream",
          "text": [
            "CPU times: user 188 ms, sys: 10.3 ms, total: 199 ms\n",
            "Wall time: 1.59 s\n"
          ],
          "name": "stdout"
        }
      ]
    },
    {
      "cell_type": "code",
      "metadata": {
        "colab": {
          "base_uri": "https://localhost:8080/",
          "height": 298
        },
        "id": "DclYsq4qOko_",
        "outputId": "98fcd981-f456-4cf5-fbcb-529648dbf806"
      },
      "source": [
        "print(f1_score(y_test, y_pred_dtc, average='macro'))\n",
        "sns.heatmap(confusion_matrix(y_pred_dtc, y_test), annot=True, fmt=\"d\", cmap=plt.cm.Blues, cbar=False)"
      ],
      "execution_count": 15,
      "outputs": [
        {
          "output_type": "stream",
          "text": [
            "0.32367633185869077\n"
          ],
          "name": "stdout"
        },
        {
          "output_type": "execute_result",
          "data": {
            "text/plain": [
              "<matplotlib.axes._subplots.AxesSubplot at 0x7f1a89c97090>"
            ]
          },
          "metadata": {
            "tags": []
          },
          "execution_count": 15
        },
        {
          "output_type": "display_data",
          "data": {
            "image/png": "[encoded data removed]",
            "text/plain": [
              "<Figure size 432x288 with 1 Axes>"
            ]
          },
          "metadata": {
            "tags": [],
            "needs_background": "light"
          }
        }
      ]
    },
    {
      "cell_type": "code",
      "metadata": {
        "colab": {
          "base_uri": "https://localhost:8080/"
        },
        "id": "NzJfStKjLxkx",
        "outputId": "00f4b42b-d83c-4ae4-c3bb-b603a9aa1961"
      },
      "source": [
        "from sklearn.ensemble import RandomForestClassifier\n",
        "\n",
        "rfc = RandomForestClassifier(random_state=42)\n",
        "rfc_params = {\n",
        "    'n_estimators': [260, 280],\n",
        "    'max_depth': [3, 20]\n",
        "}\n",
        "rfc_clf = GridSearchCV(rfc, param_grid=rfc_params, n_jobs=-1, scoring='f1_macro', cv=5)\n",
        "rfc_clf"
      ],
      "execution_count": 16,
      "outputs": [
        {
          "output_type": "execute_result",
          "data": {
            "text/plain": [
              "GridSearchCV(cv=5, error_score=nan,\n",
              "             estimator=RandomForestClassifier(bootstrap=True, ccp_alpha=0.0,\n",
              "                                              class_weight=None,\n",
              "                                              criterion='gini', max_depth=None,\n",
              "                                              max_features='auto',\n",
              "                                              max_leaf_nodes=None,\n",
              "                                              max_samples=None,\n",
              "                                              min_impurity_decrease=0.0,\n",
              "                                              min_impurity_split=None,\n",
              "                                              min_samples_leaf=1,\n",
              "                                              min_samples_split=2,\n",
              "                                              min_weight_fraction_leaf=0.0,\n",
              "                                              n_estimators=100, n_jobs=None,\n",
              "                                              oob_score=False, random_state=42,\n",
              "                                              verbose=0, warm_start=False),\n",
              "             iid='deprecated', n_jobs=-1,\n",
              "             param_grid={'max_depth': [3, 20], 'n_estimators': [260, 280]},\n",
              "             pre_dispatch='2*n_jobs', refit=True, return_train_score=False,\n",
              "             scoring='f1_macro', verbose=0)"
            ]
          },
          "metadata": {
            "tags": []
          },
          "execution_count": 16
        }
      ]
    },
    {
      "cell_type": "code",
      "metadata": {
        "colab": {
          "base_uri": "https://localhost:8080/"
        },
        "id": "91qQAY1CO9D2",
        "outputId": "fcc04542-88fd-40a9-808f-4cff93f18025"
      },
      "source": [
        "%%time\n",
        "rfc_clf.fit(X_train, y_train)\n",
        "y_pred_rfc = rfc_clf.predict(X_test)"
      ],
      "execution_count": 17,
      "outputs": [
        {
          "output_type": "stream",
          "text": [
            "CPU times: user 5.25 s, sys: 120 ms, total: 5.37 s\n",
            "Wall time: 43.4 s\n"
          ],
          "name": "stdout"
        }
      ]
    },
    {
      "cell_type": "code",
      "metadata": {
        "colab": {
          "base_uri": "https://localhost:8080/",
          "height": 315
        },
        "id": "eT4CjLxFPBr7",
        "outputId": "9c3b8e98-52e1-42d5-c06c-0c03661c6b94"
      },
      "source": [
        "print('criterion=gini\\n', f1_score(y_test, y_pred_rfc, average='macro'))\n",
        "sns.heatmap(confusion_matrix(y_pred_rfc, y_test), annot=True, fmt=\"d\", cmap=plt.cm.Blues, cbar=False)"
      ],
      "execution_count": 18,
      "outputs": [
        {
          "output_type": "stream",
          "text": [
            "criterion=gini\n",
            " 0.3993341770298876\n"
          ],
          "name": "stdout"
        },
        {
          "output_type": "execute_result",
          "data": {
            "text/plain": [
              "<matplotlib.axes._subplots.AxesSubplot at 0x7f1a898f4e50>"
            ]
          },
          "metadata": {
            "tags": []
          },
          "execution_count": 18
        },
        {
          "output_type": "display_data",
          "data": {
            "image/png": "[encoded data removed]",
            "text/plain": [
              "<Figure size 432x288 with 1 Axes>"
            ]
          },
          "metadata": {
            "tags": [],
            "needs_background": "light"
          }
        }
      ]
    },
    {
      "cell_type": "code",
      "metadata": {
        "colab": {
          "base_uri": "https://localhost:8080/"
        },
        "id": "3FpW6Fvchn-i",
        "outputId": "c857d050-74fb-4fca-f158-f0b91097f174"
      },
      "source": [
        "from sklearn.ensemble import RandomForestClassifier\n",
        "\n",
        "rfc = RandomForestClassifier(criterion='entropy', random_state=42)\n",
        "rfc_params = {\n",
        "    'n_estimators': [260, 280],\n",
        "    'max_depth': [3, 20]\n",
        "}\n",
        "rfc_clf = GridSearchCV(rfc, param_grid=rfc_params, n_jobs=-1, scoring='f1_macro', cv=5)\n",
        "rfc_clf"
      ],
      "execution_count": 19,
      "outputs": [
        {
          "output_type": "execute_result",
          "data": {
            "text/plain": [
              "GridSearchCV(cv=5, error_score=nan,\n",
              "             estimator=RandomForestClassifier(bootstrap=True, ccp_alpha=0.0,\n",
              "                                              class_weight=None,\n",
              "                                              criterion='entropy',\n",
              "                                              max_depth=None,\n",
              "                                              max_features='auto',\n",
              "                                              max_leaf_nodes=None,\n",
              "                                              max_samples=None,\n",
              "                                              min_impurity_decrease=0.0,\n",
              "                                              min_impurity_split=None,\n",
              "                                              min_samples_leaf=1,\n",
              "                                              min_samples_split=2,\n",
              "                                              min_weight_fraction_leaf=0.0,\n",
              "                                              n_estimators=100, n_jobs=None,\n",
              "                                              oob_score=False, random_state=42,\n",
              "                                              verbose=0, warm_start=False),\n",
              "             iid='deprecated', n_jobs=-1,\n",
              "             param_grid={'max_depth': [3, 20], 'n_estimators': [260, 280]},\n",
              "             pre_dispatch='2*n_jobs', refit=True, return_train_score=False,\n",
              "             scoring='f1_macro', verbose=0)"
            ]
          },
          "metadata": {
            "tags": []
          },
          "execution_count": 19
        }
      ]
    },
    {
      "cell_type": "code",
      "metadata": {
        "colab": {
          "base_uri": "https://localhost:8080/"
        },
        "id": "jRnmpSqeid9a",
        "outputId": "8f3119a8-db21-4e3a-e8bc-cf7cc6ea4b6b"
      },
      "source": [
        "%%time\n",
        "rfc_clf.fit(X_train, y_train)\n",
        "y_pred_rfc = rfc_clf.predict(X_test)"
      ],
      "execution_count": 20,
      "outputs": [
        {
          "output_type": "stream",
          "text": [
            "CPU times: user 13 s, sys: 137 ms, total: 13.2 s\n",
            "Wall time: 1min 51s\n"
          ],
          "name": "stdout"
        }
      ]
    },
    {
      "cell_type": "code",
      "metadata": {
        "colab": {
          "base_uri": "https://localhost:8080/",
          "height": 315
        },
        "id": "gNX_PgQeijA7",
        "outputId": "bc437660-0d89-415b-cd34-de3b6622a352"
      },
      "source": [
        "print('criterion=entropy\\n', f1_score(y_test, y_pred_rfc, average='macro'))\n",
        "sns.heatmap(confusion_matrix(y_pred_rfc, y_test), annot=True, fmt=\"d\", cmap=plt.cm.Blues, cbar=False)"
      ],
      "execution_count": 21,
      "outputs": [
        {
          "output_type": "stream",
          "text": [
            "criterion=entropy\n",
            " 0.40125202138197974\n"
          ],
          "name": "stdout"
        },
        {
          "output_type": "execute_result",
          "data": {
            "text/plain": [
              "<matplotlib.axes._subplots.AxesSubplot at 0x7f1a8977bb90>"
            ]
          },
          "metadata": {
            "tags": []
          },
          "execution_count": 21
        },
        {
          "output_type": "display_data",
          "data": {
            "image/png": "[encoded data removed]",
            "text/plain": [
              "<Figure size 432x288 with 1 Axes>"
            ]
          },
          "metadata": {
            "tags": [],
            "needs_background": "light"
          }
        }
      ]
    },
    {
      "cell_type": "markdown",
      "metadata": {
        "id": "KTiYD1WNQAci"
      },
      "source": [
        "## SVC 4"
      ]
    },
    {
      "cell_type": "code",
      "metadata": {
        "colab": {
          "base_uri": "https://localhost:8080/"
        },
        "id": "MkJsnKlWP9hQ",
        "outputId": "48e730fb-6cf7-42ce-fab9-50f0c5645e9a"
      },
      "source": [
        "from sklearn.svm import SVC\n",
        "svc = SVC(kernel='rbf', random_state=42)\n",
        "svc_params = {\n",
        "    'C': [1, 100, 1000],\n",
        "}\n",
        "svc_clf = GridSearchCV(svc, param_grid=svc_params, n_jobs=-1, scoring='f1_macro', cv=5)\n",
        "svc_clf"
      ],
      "execution_count": 22,
      "outputs": [
        {
          "output_type": "execute_result",
          "data": {
            "text/plain": [
              "GridSearchCV(cv=5, error_score=nan,\n",
              "             estimator=SVC(C=1.0, break_ties=False, cache_size=200,\n",
              "                           class_weight=None, coef0=0.0,\n",
              "                           decision_function_shape='ovr', degree=3,\n",
              "                           gamma='scale', kernel='rbf', max_iter=-1,\n",
              "                           probability=False, random_state=42, shrinking=True,\n",
              "                           tol=0.001, verbose=False),\n",
              "             iid='deprecated', n_jobs=-1, param_grid={'C': [1, 100, 1000]},\n",
              "             pre_dispatch='2*n_jobs', refit=True, return_train_score=False,\n",
              "             scoring='f1_macro', verbose=0)"
            ]
          },
          "metadata": {
            "tags": []
          },
          "execution_count": 22
        }
      ]
    },
    {
      "cell_type": "code",
      "metadata": {
        "colab": {
          "base_uri": "https://localhost:8080/"
        },
        "id": "GQTSlsMKRje5",
        "outputId": "669f2d12-31a5-4917-95fb-c24e6073d697"
      },
      "source": [
        "%%time\n",
        "svc_clf.fit(X_train, y_train)\n",
        "y_pred_svc = svc_clf.predict(X_test)"
      ],
      "execution_count": 23,
      "outputs": [
        {
          "output_type": "stream",
          "text": [
            "CPU times: user 11.4 s, sys: 67.7 ms, total: 11.5 s\n",
            "Wall time: 1min 2s\n"
          ],
          "name": "stdout"
        }
      ]
    },
    {
      "cell_type": "code",
      "metadata": {
        "colab": {
          "base_uri": "https://localhost:8080/",
          "height": 298
        },
        "id": "E8bhqRXMRl3K",
        "outputId": "a60191b4-af96-4842-af68-378d69ff0e02"
      },
      "source": [
        "print(f1_score(y_test, y_pred_svc, average='macro'))\n",
        "sns.heatmap(confusion_matrix(y_pred_svc, y_test), annot=True, fmt=\"d\", cmap=plt.cm.Blues, cbar=False)"
      ],
      "execution_count": 24,
      "outputs": [
        {
          "output_type": "stream",
          "text": [
            "0.2595154635792838\n"
          ],
          "name": "stdout"
        },
        {
          "output_type": "execute_result",
          "data": {
            "text/plain": [
              "<matplotlib.axes._subplots.AxesSubplot at 0x7f1a897d29d0>"
            ]
          },
          "metadata": {
            "tags": []
          },
          "execution_count": 24
        },
        {
          "output_type": "display_data",
          "data": {
            "image/png": "[encoded data removed]",
            "text/plain": [
              "<Figure size 432x288 with 1 Axes>"
            ]
          },
          "metadata": {
            "tags": [],
            "needs_background": "light"
          }
        }
      ]
    },
    {
      "cell_type": "code",
      "metadata": {
        "colab": {
          "base_uri": "https://localhost:8080/"
        },
        "id": "3gavdPYLTRIh",
        "outputId": "0c3a99d2-f340-48ea-fb3c-2881fb019784"
      },
      "source": [
        "svc_clf.best_estimator_"
      ],
      "execution_count": 25,
      "outputs": [
        {
          "output_type": "execute_result",
          "data": {
            "text/plain": [
              "SVC(C=1000, break_ties=False, cache_size=200, class_weight=None, coef0=0.0,\n",
              "    decision_function_shape='ovr', degree=3, gamma='scale', kernel='rbf',\n",
              "    max_iter=-1, probability=False, random_state=42, shrinking=True, tol=0.001,\n",
              "    verbose=False)"
            ]
          },
          "metadata": {
            "tags": []
          },
          "execution_count": 25
        }
      ]
    }
  ]
}