{
  "nbformat": 4,
  "nbformat_minor": 0,
  "metadata": {
    "colab": {
      "name": "ml_lab2a",
      "provenance": []
    },
    "kernelspec": {
      "name": "python3",
      "display_name": "Python 3"
    }
  },
  "cells": [
    {
      "cell_type": "code",
      "metadata": {
        "id": "nqLqulvsc-4z"
      },
      "source": [
        "import numpy as np \n",
        "import pandas as pd\n",
        "import matplotlib.pyplot as plt"
      ],
      "execution_count": 1,
      "outputs": []
    },
    {
      "cell_type": "code",
      "metadata": {
        "id": "dMrr1EWodcXK"
      },
      "source": [
        "df = pd.read_csv('data02.csv', sep = ';', names=['x1', 'x2', 'label'])"
      ],
      "execution_count": 2,
      "outputs": []
    },
    {
      "cell_type": "code",
      "metadata": {
        "colab": {
          "base_uri": "https://localhost:8080/"
        },
        "id": "gXLpio_1QCXw",
        "outputId": "4a9ec0ab-a7ab-46ff-838d-c6368fbdd5ba"
      },
      "source": [
        "df.shape"
      ],
      "execution_count": 3,
      "outputs": [
        {
          "output_type": "execute_result",
          "data": {
            "text/plain": [
              "(100, 3)"
            ]
          },
          "metadata": {
            "tags": []
          },
          "execution_count": 3
        }
      ]
    },
    {
      "cell_type": "code",
      "metadata": {
        "id": "zK4H-ODsddl4"
      },
      "source": [
        "from sklearn.model_selection import train_test_split\n",
        "X_train, X_test, y_train, y_test = train_test_split( df[['x1', 'x2']], df['label'], \n",
        "    test_size=0.5, random_state=42, stratify=df['label'])"
      ],
      "execution_count": 4,
      "outputs": []
    },
    {
      "cell_type": "code",
      "metadata": {
        "id": "W7Y_xYIIgnDi",
        "colab": {
          "base_uri": "https://localhost:8080/",
          "height": 296
        },
        "outputId": "4a151192-72ae-4d1c-d953-6260136cc419"
      },
      "source": [
        "import seaborn as sns\n",
        "sns.scatterplot(x='x1', y='x2', data=df, hue='label')"
      ],
      "execution_count": 13,
      "outputs": [
        {
          "output_type": "execute_result",
          "data": {
            "text/plain": [
              "<matplotlib.axes._subplots.AxesSubplot at 0x7f40d03858d0>"
            ]
          },
          "metadata": {
            "tags": []
          },
          "execution_count": 13
        },
        {
          "output_type": "display_data",
          "data": {
            "image/png": "[encoded data removed]",
            "text/plain": [
              "<Figure size 432x288 with 1 Axes>"
            ]
          },
          "metadata": {
            "tags": [],
            "needs_background": "light"
          }
        }
      ]
    },
    {
      "cell_type": "code",
      "metadata": {
        "id": "PBsAhpxcd-4y"
      },
      "source": [
        "class Perceptron(object):\n",
        "\n",
        "    def __init__(self, n_epochs=20):\n",
        "        self.errors_ = []\n",
        "        self.n_epochs = n_epochs\n",
        "        self.w_ = 0\n",
        "\n",
        "    def fit(self, X, y):\n",
        "        self.w_ = np.zeros(X.shape[1])\n",
        "\n",
        "        for _ in range(self.n_epochs):\n",
        "            \n",
        "            error = 0\n",
        "            \n",
        "            for xi, target in zip(X, y):\n",
        "                if self.predict(xi) == 1 and target == 0:\n",
        "                    error += 1\n",
        "                    self.w_ -= xi\n",
        "                elif self.predict(xi) == 0 and target == 1:\n",
        "                    error += 1\n",
        "                    self.w_ += xi\n",
        "   \n",
        "            self.errors_.append(error)\n",
        "        return self\n",
        "\n",
        "    def predict(self, xi):\n",
        "        return np.where(np.dot(xi, self.w_) > 0.0, 1, 0)"
      ],
      "execution_count": 6,
      "outputs": []
    },
    {
      "cell_type": "code",
      "metadata": {
        "id": "GsuqbEuceNxI"
      },
      "source": [
        "def data_preprocessor(x):\n",
        "    n = x.shape[0]\n",
        "    bias = np.ones(shape=(n, 1))\n",
        "    data = np.concatenate((bias, x), axis=1)\n",
        "\n",
        "    return data"
      ],
      "execution_count": 7,
      "outputs": []
    },
    {
      "cell_type": "code",
      "metadata": {
        "id": "PHDwO7ctiC1I"
      },
      "source": [
        "X_train = data_preprocessor(X_train)\n",
        "X_test = data_preprocessor(X_test)"
      ],
      "execution_count": 14,
      "outputs": []
    },
    {
      "cell_type": "code",
      "metadata": {
        "id": "pv0qEwvpdi5N",
        "colab": {
          "base_uri": "https://localhost:8080/"
        },
        "outputId": "042d2880-cb0c-480a-cd23-e754d7b4cf7b"
      },
      "source": [
        "ppn = Perceptron()\n",
        "ppn.fit(X_train, y_train)"
      ],
      "execution_count": 9,
      "outputs": [
        {
          "output_type": "execute_result",
          "data": {
            "text/plain": [
              "<__main__.Perceptron at 0x7f40d037e290>"
            ]
          },
          "metadata": {
            "tags": []
          },
          "execution_count": 9
        }
      ]
    },
    {
      "cell_type": "code",
      "metadata": {
        "id": "mtQbzkd5oloZ"
      },
      "source": [
        "# plt.scatter(X_train[:,1],X_train[:,2], c=y_train)"
      ],
      "execution_count": 10,
      "outputs": []
    },
    {
      "cell_type": "code",
      "metadata": {
        "id": "Is6k6Bm9dkKS",
        "colab": {
          "base_uri": "https://localhost:8080/",
          "height": 281
        },
        "outputId": "9ba7a5ee-f85a-4400-c515-91ad683b713a"
      },
      "source": [
        "plt.plot(range(1, len(ppn.errors_) + 1), ppn.errors_, 'g--', marker = 'o' )\n",
        "\n",
        "plt.title('Number of failed classification on each epoch')\n",
        "plt.grid()"
      ],
      "execution_count": 11,
      "outputs": [
        {
          "output_type": "display_data",
          "data": {
            "image/png": "[encoded data removed]",
            "text/plain": [
              "<Figure size 432x288 with 1 Axes>"
            ]
          },
          "metadata": {
            "tags": [],
            "needs_background": "light"
          }
        }
      ]
    },
    {
      "cell_type": "code",
      "metadata": {
        "id": "EDBM0aFCdl9R",
        "colab": {
          "base_uri": "https://localhost:8080/",
          "height": 265
        },
        "outputId": "4b38289a-e0e7-40f3-b027-227812c22bbc"
      },
      "source": [
        "from matplotlib.colors import ListedColormap\n",
        "\n",
        "x1_min, x1_max = X_test[:, 1].min()-1, X_test[:, 1].max()+1\n",
        "x2_min, x2_max = X_test[:, 2].min()-1, X_test[:, 2].max()+1   \n",
        "\n",
        "xx1, xx2 = np.meshgrid(np.arange(x1_min, x1_max, 0.01), \n",
        "                       np.arange(x2_min, x2_max, 0.01))\n",
        "\n",
        "\n",
        "Z = ppn.predict(np.array([np.ones_like(xx1.ravel()), xx1.ravel(), xx2.ravel()]).T)\n",
        "Z = Z.reshape(xx1.shape)\n",
        "\n",
        "plt.contourf(xx1, xx2, Z , alpha=0.5, cmap=ListedColormap(['red' , 'blue']))\n",
        "plt.xlim(xx1.min(), xx1.max())\n",
        "plt.ylim(xx2.min(), xx2.max())\n",
        "\n",
        "for idx, cl in enumerate(np.unique(y_test.values)):\n",
        "    plt.scatter(X_test[:, 1:][y_test.values == cl, 0], \n",
        "                X_test[:, 1:][y_test.values == cl, 1], \n",
        "                    alpha = 0.8 , color=ListedColormap(['red' , 'blue'])(idx), \n",
        "                        marker = ['o' , 'x'][idx], label = cl)  "
      ],
      "execution_count": 12,
      "outputs": [
        {
          "output_type": "display_data",
          "data": {
            "image/png": "[encoded data removed]",
            "text/plain": [
              "<Figure size 432x288 with 1 Axes>"
            ]
          },
          "metadata": {
            "tags": [],
            "needs_background": "light"
          }
        }
      ]
    }
  ]
}